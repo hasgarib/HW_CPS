{
 "cells": [
  {
   "cell_type": "code",
   "execution_count": 1,
   "id": "b6d0b8a9-8b8f-4519-94c8-59c8c29aea72",
   "metadata": {},
   "outputs": [
    {
     "name": "stdout",
     "output_type": "stream",
     "text": [
      "Checking file: Input_geometry/run1/smesh.1.1.txt\n"
     ]
    },
    {
     "ename": "ValueError",
     "evalue": "setting an array element with a sequence. The requested array has an inhomogeneous shape after 1 dimensions. The detected shape was (206,) + inhomogeneous part.",
     "output_type": "error",
     "traceback": [
      "\u001b[0;31m---------------------------------------------------------------------------\u001b[0m",
      "\u001b[0;31mValueError\u001b[0m                                Traceback (most recent call last)",
      "Cell \u001b[0;32mIn[1], line 34\u001b[0m\n\u001b[1;32m     31\u001b[0m     \u001b[38;5;28;01mreturn\u001b[39;00m input_geometries\n\u001b[1;32m     33\u001b[0m \u001b[38;5;66;03m# Example usage\u001b[39;00m\n\u001b[0;32m---> 34\u001b[0m input_geometry \u001b[38;5;241m=\u001b[39m \u001b[43mload_input_geometry\u001b[49m\u001b[43m(\u001b[49m\u001b[38;5;124;43m\"\u001b[39;49m\u001b[38;5;124;43mInput_geometry\u001b[39;49m\u001b[38;5;124;43m\"\u001b[39;49m\u001b[43m)\u001b[49m\n",
      "Cell \u001b[0;32mIn[1], line 27\u001b[0m, in \u001b[0;36mload_input_geometry\u001b[0;34m(data_dir)\u001b[0m\n\u001b[1;32m     25\u001b[0m \u001b[38;5;66;03m# Check if the file exists before attempting to read it\u001b[39;00m\n\u001b[1;32m     26\u001b[0m \u001b[38;5;28;01mif\u001b[39;00m os\u001b[38;5;241m.\u001b[39mpath\u001b[38;5;241m.\u001b[39mexists(smesh_file_path):\n\u001b[0;32m---> 27\u001b[0m     input_geometries[run]\u001b[38;5;241m.\u001b[39mappend(\u001b[43mparse_smesh\u001b[49m\u001b[43m(\u001b[49m\u001b[43msmesh_file_path\u001b[49m\u001b[43m)\u001b[49m)  \u001b[38;5;66;03m# Parse the smesh file and store the data\u001b[39;00m\n\u001b[1;32m     28\u001b[0m \u001b[38;5;28;01melse\u001b[39;00m:\n\u001b[1;32m     29\u001b[0m     \u001b[38;5;28mprint\u001b[39m(\u001b[38;5;124mf\u001b[39m\u001b[38;5;124m\"\u001b[39m\u001b[38;5;124mWarning: File \u001b[39m\u001b[38;5;132;01m{\u001b[39;00msmesh_file_path\u001b[38;5;132;01m}\u001b[39;00m\u001b[38;5;124m not found.\u001b[39m\u001b[38;5;124m\"\u001b[39m)  \u001b[38;5;66;03m# If the file is missing, print a warning\u001b[39;00m\n",
      "Cell \u001b[0;32mIn[1], line 8\u001b[0m, in \u001b[0;36mparse_smesh\u001b[0;34m(file_path)\u001b[0m\n\u001b[1;32m      6\u001b[0m \u001b[38;5;28;01mwith\u001b[39;00m \u001b[38;5;28mopen\u001b[39m(file_path, \u001b[38;5;124m'\u001b[39m\u001b[38;5;124mr\u001b[39m\u001b[38;5;124m'\u001b[39m) \u001b[38;5;28;01mas\u001b[39;00m f:\n\u001b[1;32m      7\u001b[0m     lines \u001b[38;5;241m=\u001b[39m f\u001b[38;5;241m.\u001b[39mreadlines()[\u001b[38;5;241m4\u001b[39m:]  \u001b[38;5;66;03m# Skip the first 4 lines\u001b[39;00m\n\u001b[0;32m----> 8\u001b[0m     nodes \u001b[38;5;241m=\u001b[39m \u001b[43mnp\u001b[49m\u001b[38;5;241;43m.\u001b[39;49m\u001b[43marray\u001b[49m\u001b[43m(\u001b[49m\u001b[43m[\u001b[49m\u001b[38;5;28;43mlist\u001b[39;49m\u001b[43m(\u001b[49m\u001b[38;5;28;43mmap\u001b[39;49m\u001b[43m(\u001b[49m\u001b[38;5;28;43mfloat\u001b[39;49m\u001b[43m,\u001b[49m\u001b[43m \u001b[49m\u001b[43mline\u001b[49m\u001b[38;5;241;43m.\u001b[39;49m\u001b[43msplit\u001b[49m\u001b[43m(\u001b[49m\u001b[43m)\u001b[49m\u001b[43m)\u001b[49m\u001b[43m)\u001b[49m\u001b[43m \u001b[49m\u001b[38;5;28;43;01mfor\u001b[39;49;00m\u001b[43m \u001b[49m\u001b[43mline\u001b[49m\u001b[43m \u001b[49m\u001b[38;5;129;43;01min\u001b[39;49;00m\u001b[43m \u001b[49m\u001b[43mlines\u001b[49m\u001b[43m]\u001b[49m\u001b[43m)\u001b[49m  \u001b[38;5;66;03m# Convert each line to a list of floats\u001b[39;00m\n\u001b[1;32m      9\u001b[0m \u001b[38;5;28;01mreturn\u001b[39;00m nodes\n",
      "\u001b[0;31mValueError\u001b[0m: setting an array element with a sequence. The requested array has an inhomogeneous shape after 1 dimensions. The detected shape was (206,) + inhomogeneous part."
     ]
    }
   ],
   "source": [
    "import os\n",
    "import numpy as np\n",
    "\n",
    "# This function reads the smesh files and parses the nodes\n",
    "def parse_smesh(file_path):\n",
    "    with open(file_path, 'r') as f:\n",
    "        lines = f.readlines()[4:]  # Skip the first 4 lines\n",
    "        nodes = np.array([list(map(float, line.split())) for line in lines])  # Convert each line to a list of floats\n",
    "    return nodes\n",
    "\n",
    "# This function loads the input geometries for all runs\n",
    "def load_input_geometry(data_dir):\n",
    "    input_geometries = {}  # Dictionary to store input geometries for each run\n",
    "    \n",
    "    for run in range(1, 65):  # Loop through run directories (run1 to run64)\n",
    "        run_dir = os.path.join(data_dir, f\"run{run}\")  # Path to the run folder (e.g., Input_geometry/run1)\n",
    "        input_geometries[run] = []  # Initialize an empty list to store smesh data for this run\n",
    "        \n",
    "        for smesh_file in range(1, 4):  # We expect 3 smesh files per run\n",
    "            # Construct the correct file path for each smesh file\n",
    "            smesh_file_path = os.path.join(run_dir, f\"smesh.1.{smesh_file}.txt\")\n",
    "            \n",
    "            print(f\"Checking file: {smesh_file_path}\")  # Debugging: print the file path being checked\n",
    "            \n",
    "            # Check if the file exists before attempting to read it\n",
    "            if os.path.exists(smesh_file_path):\n",
    "                input_geometries[run].append(parse_smesh(smesh_file_path))  # Parse the smesh file and store the data\n",
    "            else:\n",
    "                print(f\"Warning: File {smesh_file_path} not found.\")  # If the file is missing, print a warning\n",
    "    \n",
    "    return input_geometries\n",
    "\n",
    "# Example usage\n",
    "input_geometry = load_input_geometry(\"Input_geometry\")\n"
   ]
  },
  {
   "cell_type": "code",
   "execution_count": null,
   "id": "dc965524-dd8c-47c3-af31-1cfb6d13c212",
   "metadata": {},
   "outputs": [],
   "source": []
  }
 ],
 "metadata": {
  "kernelspec": {
   "display_name": "me592",
   "language": "python",
   "name": "me592"
  },
  "language_info": {
   "codemirror_mode": {
    "name": "ipython",
    "version": 3
   },
   "file_extension": ".py",
   "mimetype": "text/x-python",
   "name": "python",
   "nbconvert_exporter": "python",
   "pygments_lexer": "ipython3",
   "version": "3.10.16"
  }
 },
 "nbformat": 4,
 "nbformat_minor": 5
}
