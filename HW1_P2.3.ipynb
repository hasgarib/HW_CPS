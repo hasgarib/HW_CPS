{
 "cells": [
  {
   "cell_type": "code",
   "execution_count": 2,
   "id": "d8fe5aa0-a2d7-43a9-81f4-e7215d1209ac",
   "metadata": {},
   "outputs": [
    {
     "name": "stdout",
     "output_type": "stream",
     "text": [
      "Collecting scipy\n",
      "  Downloading scipy-1.15.1-cp310-cp310-manylinux_2_17_x86_64.manylinux2014_x86_64.whl.metadata (61 kB)\n",
      "Requirement already satisfied: numpy<2.5,>=1.23.5 in ./.conda/envs/my5920_env/lib/python3.10/site-packages (from scipy) (2.2.3)\n",
      "Downloading scipy-1.15.1-cp310-cp310-manylinux_2_17_x86_64.manylinux2014_x86_64.whl (40.6 MB)\n",
      "\u001b[2K   \u001b[38;2;114;156;31m━━━━━━━━━━━━━━━━━━━━━━━━━━━━━━━━━━━━━━━━\u001b[0m \u001b[32m40.6/40.6 MB\u001b[0m \u001b[31m73.6 MB/s\u001b[0m eta \u001b[36m0:00:00\u001b[0m MB/s\u001b[0m eta \u001b[36m0:00:01\u001b[0m\n",
      "Installing collected packages: scipy\n",
      "Successfully installed scipy-1.15.1\n",
      "Note: you may need to restart the kernel to use updated packages.\n"
     ]
    }
   ],
   "source": [
    "pip install scipy"
   ]
  },
  {
   "cell_type": "code",
   "execution_count": 11,
   "id": "c0d2cffa-c22d-4a8b-bff8-bfa67e0dca6b",
   "metadata": {},
   "outputs": [
    {
     "name": "stdout",
     "output_type": "stream",
     "text": [
      "Columns: ['Frequency', 'Angle of Attack', 'Chord Length', 'Free-stream Velocity', 'Suction Side Thickness', 'Scaled SPL']\n"
     ]
    }
   ],
   "source": [
    "print(\"Columns:\", df.columns.tolist())\n"
   ]
  },
  {
   "cell_type": "code",
   "execution_count": 10,
   "id": "2ce6f810-7e6b-473f-b5b9-69491eb61d83",
   "metadata": {},
   "outputs": [
    {
     "name": "stdout",
     "output_type": "stream",
     "text": [
      "                               Mean      Variance  Standard Deviation  \\\n",
      "Frequency               2886.380572  9.938717e+06         3152.573137   \n",
      "Angle of Attack            6.782302  3.502424e+01            5.918128   \n",
      "Chord Length               0.136548  8.749868e-03            0.093541   \n",
      "Free-stream Velocity      50.860745  2.425116e+02           15.572784   \n",
      "Suction Side Thickness     0.011140  1.729287e-04            0.013150   \n",
      "Scaled SPL               124.835943  4.759146e+01            6.898657   \n",
      "\n",
      "                             Median  Kurtosis  Skewness         Range  \n",
      "Frequency               1600.000000  5.708685  2.137084  19800.000000  \n",
      "Angle of Attack            5.400000 -0.412951  0.689164     22.200000  \n",
      "Chord Length               0.101600 -1.037964  0.457457      0.279400  \n",
      "Free-stream Velocity      39.600000 -1.563951  0.235852     39.600000  \n",
      "Suction Side Thickness     0.004957  2.218903  1.702165      0.058011  \n",
      "Scaled SPL               125.721000 -0.314187 -0.418952     37.607000  \n"
     ]
    }
   ],
   "source": [
    "import pandas as pd\n",
    "import numpy as np\n",
    "from scipy.stats import kurtosis, skew\n",
    "df = pd.read_csv('airfoil_self_noise.dat', sep='\\s+', header=None)\n",
    "df.columns = [\"Frequency\", \"Angle of Attack\", \"Chord Length\", \"Free-stream Velocity\", \"Suction Side Thickness\", \"Scaled SPL\"]\n",
    "stats = {\n",
    "    \"Mean\": df.mean(),\n",
    "    \"Variance\": df.var(),\n",
    "    \"Standard Deviation\": df.std(),\n",
    "    \"Median\": df.median(),\n",
    "    \"Kurtosis\": df.kurtosis(),\n",
    "    \"Skewness\": df.skew(),\n",
    "    \"Range\": df.max() - df.min()\n",
    "}\n",
    "stats_df = pd.DataFrame(stats)\n",
    "print(stats_df)"
   ]
  }
 ],
 "metadata": {
  "kernelspec": {
   "display_name": "me592",
   "language": "python",
   "name": "me592"
  },
  "language_info": {
   "codemirror_mode": {
    "name": "ipython",
    "version": 3
   },
   "file_extension": ".py",
   "mimetype": "text/x-python",
   "name": "python",
   "nbconvert_exporter": "python",
   "pygments_lexer": "ipython3",
   "version": "3.10.16"
  }
 },
 "nbformat": 4,
 "nbformat_minor": 5
}
